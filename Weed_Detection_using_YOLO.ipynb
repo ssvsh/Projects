{
  "nbformat": 4,
  "nbformat_minor": 0,
  "metadata": {
    "colab": {
      "provenance": []
    },
    "kernelspec": {
      "name": "python3",
      "display_name": "Python 3"
    },
    "language_info": {
      "name": "python"
    }
  },
  "cells": [
    {
      "cell_type": "code",
      "execution_count": null,
      "metadata": {
        "id": "LQvGNV8Qa4a3"
      },
      "outputs": [],
      "source": [
        "import numpy as np\n",
        "import time\n",
        "import cv2\n",
        "#img=\"/data/\"+\"agri_0_113.jp\n",
        "eg\"\n",
        "img=\"agri_0_224.jpeg\"\n",
        "imagep=\"./images/\"+img\n",
        "#img=\"file:///C:/WPy-3670/detection/images/agri_0_2964.jpeg\" conf=\n",
        "0.3\n",
        "thres\n",
        "h=0.5\n",
        "labelsPath =\"./obj.names\" LABELS =\n",
        "open(labelsPath).read().strip().split(\"\\n\")\n",
        "#np.random.seed(42)\n",
        "#COLORS = np.random.randint(0, 255, size=(len(LABELS), 3), # dtype=\"uint8\")\n",
        "COLORS=(255,255,0)\n",
        "weightsPath =\"./crop_weed_final.weights\" configPath =\"./crop_weed.cfg\" net = cv2.dnn.readNetFromDarknet(configPath, weightsPath) image = cv2.imread(imagep)\n",
        "Detection of Weed plants using Image Processing and Deep Learningtechniques40 Department Of CSE(H, W) =\n",
        "image.shape[:2] ln =\n",
        "net.getLayerNames(\n",
        ")\n",
        "ln = [ln[i[0] - 1] for i in\n",
        "net.getUnconnectedOutLayers()] blob =\n",
        "cv2.dnn.blobFromImage(image, 1 / 255.0, (416, 416), swapRB=True, crop=False)\n",
        "net.setInput(bl\n",
        "ob) start =\n",
        "time.time()\n",
        "layerOutputs =\n",
        "net.forward(ln) end =\n",
        "time.time()\n",
        "boxes = []\n",
        "confidence\n",
        "s = []\n",
        "classIDs =\n",
        "[]\n",
        "for output in\n",
        "layerOutputs: for\n",
        "detection in\n",
        "output:\n",
        "scores = detection[5:]\n",
        "classID =\n",
        "Detection of Weed plants using Image Processing and Deep Learningtechniques41 Department Of CSEnp.argmax(scores)\n",
        "confidence =\n",
        "scores[classID] if\n",
        "confidence > conf:\n",
        "box = detection[0:4] * np.array([W, H, W, H])\n",
        "(centerX, centerY, width, height) =\n",
        "box.astype(\"int\") x = int(centerX - (width / 2))\n",
        "y = int(centerY - (height / 2))\n",
        "boxes.append([x, y, int(width), int(height)])\n",
        "confidences.append(float(confidence))\n",
        "classIDs.append(classID)\n",
        "idxs = cv2.dnn.NMSBoxes(boxes, confidences,conf,thresh) if len(idxs) > 0:\n",
        "for i in idxs.flatten():\n",
        "(x, y) = (boxes[i][0], boxes[i][1])\n",
        "(w, h) = (boxes[i][2], boxes[i][3])\n",
        "color = [0,0,255]#[int(c) for c inCOLORS[classIDs[i]]]\n",
        "cv2.rectangle(image, (x, y), (x + w, y + h), color, 2)\n",
        "text = \"{}:\n",
        "{:.4f}\".format(LABELS[classIDs[i]], confidences[i])#(x, y - 5)\n",
        "cv2.putText(image,text,(x,y-5), cv2.FONT_HERSHEY_SIMPLEX,\n",
        "Detection of Weed plants using Image Processing and Deep Learningtechniques42 Department Of CSE0.5, color, 2)\n",
        "cv2.imshow(\"Image\", image)\n",
        "cv2.imwrite(\"./results/\"+img, image) cv2.waitKey(0)\n",
        "cv2.destroyAllWindows()"
      ]
    }
  ]
}